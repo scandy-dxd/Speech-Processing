{
  "nbformat": 4,
  "nbformat_minor": 0,
  "metadata": {
    "colab": {
      "provenance": []
    },
    "kernelspec": {
      "name": "python3",
      "display_name": "Python 3"
    },
    "language_info": {
      "name": "python"
    }
  },
  "cells": [
    {
      "cell_type": "markdown",
      "source": [
        "#Data preprocessing"
      ],
      "metadata": {
        "id": "Nqk_PFyemceu"
      }
    },
    {
      "cell_type": "markdown",
      "source": [
        "Loading , plotting withh librosa, plotting with scipy are also a part of data preprocessing"
      ],
      "metadata": {
        "id": "Q9NPEqX1mfNl"
      }
    },
    {
      "cell_type": "code",
      "source": [
        "from google.colab import drive, files\n",
        "drive.mount('/content/drive')\n"
      ],
      "metadata": {
        "colab": {
          "base_uri": "https://localhost:8080/"
        },
        "id": "5NHWCePOPoeG",
        "outputId": "aa9cb474-7cf7-4119-fea3-80dac4536659"
      },
      "execution_count": null,
      "outputs": [
        {
          "output_type": "stream",
          "name": "stdout",
          "text": [
            "Drive already mounted at /content/drive; to attempt to forcibly remount, call drive.mount(\"/content/drive\", force_remount=True).\n"
          ]
        }
      ]
    },
    {
      "cell_type": "code",
      "source": [
        "import os\n",
        "import librosa\n",
        "\n",
        "# Get the directory path\n",
        "audio_dir = \"/content/drive/MyDrive/archive (1)/Data/genres_original\"\n",
        "\n",
        "# List all files in the directory\n",
        "audio_files = [os.path.join(audio_dir, filename) for filename in os.listdir(audio_dir)\n",
        "              if os.path.isfile(os.path.join(audio_dir, filename))]\n",
        "\n",
        "# Load each audio file\n",
        "for audio_file in audio_files:\n",
        "    # Load the audio using librosa.load\n",
        "    y, sr = librosa.load(audio_file)\n",
        "    # Process the audio data (e.g., feature extraction) using y and sr\n",
        "    # ... your code here ...\n"
      ],
      "metadata": {
        "id": "-VhnbCdEXRd3"
      },
      "execution_count": null,
      "outputs": []
    },
    {
      "cell_type": "code",
      "source": [
        "audio = '/content/drive/MyDrive/archive (1)/Data/genres_original/classical/classical.00000.wav'\n",
        "audio_try,audio_sr = librosa.load(audio)\n",
        "\n"
      ],
      "metadata": {
        "id": "xhyKikdPYYze"
      },
      "execution_count": null,
      "outputs": []
    },
    {
      "cell_type": "code",
      "source": [
        "import matplotlib.pyplot as plt\n",
        "plt.plot(audio_try)"
      ],
      "metadata": {
        "colab": {
          "base_uri": "https://localhost:8080/",
          "height": 447
        },
        "id": "aK4ZQieFY3GI",
        "outputId": "c14455f1-0c2d-4eff-b55d-01b484ab39cb"
      },
      "execution_count": null,
      "outputs": [
        {
          "output_type": "execute_result",
          "data": {
            "text/plain": [
              "[<matplotlib.lines.Line2D at 0x7bebc1b0f3a0>]"
            ]
          },
          "metadata": {},
          "execution_count": 5
        },
        {
          "output_type": "display_data",
          "data": {
            "text/plain": [
              "<Figure size 640x480 with 1 Axes>"
            ],
            "image/png": "[encoded data removed]"
          },
          "metadata": {}
        }
      ]
    },
    {
      "cell_type": "markdown",
      "source": [
        "##Extraction of Features\n"
      ],
      "metadata": {
        "id": "vnDr1b0t6Wju"
      }
    },
    {
      "cell_type": "markdown",
      "source": [
        "MFCC extraction - To analyse both frequency and time characteristics of sound.\n",
        "\n",
        "Applying for a single file"
      ],
      "metadata": {
        "id": "Q9lhAbIU6amB"
      }
    },
    {
      "cell_type": "code",
      "source": [
        "mfccs = librosa.feature.mfcc(y= audio_try , sr= audio_sr, n_mfcc=40)\n",
        "print(mfccs.shape)"
      ],
      "metadata": {
        "colab": {
          "base_uri": "https://localhost:8080/"
        },
        "id": "zpcAqecQZmNO",
        "outputId": "f93f6d11-9985-4027-d30f-b51d0db2199f"
      },
      "execution_count": null,
      "outputs": [
        {
          "output_type": "stream",
          "name": "stdout",
          "text": [
            "(40, 1293)\n"
          ]
        }
      ]
    },
    {
      "cell_type": "markdown",
      "source": [
        "Here n = no of mfcc, we can change the number.\n",
        "\n",
        "These are patterns extracted based on frequency and time characters"
      ],
      "metadata": {
        "id": "R2tF0AhvaeoW"
      }
    },
    {
      "cell_type": "code",
      "source": [
        "mfccs"
      ],
      "metadata": {
        "colab": {
          "base_uri": "https://localhost:8080/"
        },
        "id": "MpeB3dLHasRM",
        "outputId": "cfc9aac7-7295-4d2f-e2cc-9985ca0f3983"
      },
      "execution_count": null,
      "outputs": [
        {
          "output_type": "execute_result",
          "data": {
            "text/plain": [
              "array([[-282.4999   , -260.80426  , -272.11713  , ..., -307.14905  ,\n",
              "        -313.0383   , -305.96213  ],\n",
              "       [ 114.519684 ,  117.25304  ,  119.41905  , ...,  134.08493  ,\n",
              "         133.71909  ,  124.81784  ],\n",
              "       [ -26.870277 ,  -31.125338 ,  -29.128048 , ...,  -17.084387 ,\n",
              "         -15.962193 ,  -11.760775 ],\n",
              "       ...,\n",
              "       [   3.3700442,    2.7290726,   -3.6967003, ...,  -16.88589  ,\n",
              "         -17.884838 ,  -11.32625  ],\n",
              "       [  -2.4909806,    3.3071792,    7.5116034, ...,  -11.717381 ,\n",
              "         -15.562456 ,  -10.783487 ],\n",
              "       [  -6.5615964,   -8.919462 ,   -5.4143953, ...,    8.404547 ,\n",
              "           8.201465 ,    7.2933207]], dtype=float32)"
            ]
          },
          "metadata": {},
          "execution_count": 7
        }
      ]
    },
    {
      "cell_type": "markdown",
      "source": [
        "Extracting mfccs  for every audio file"
      ],
      "metadata": {
        "id": "cOF6n8bgbX4J"
      }
    },
    {
      "cell_type": "code",
      "source": [
        "feature_data = '/content/drive/MyDrive/archive (1)/Data/features_30_sec.csv'"
      ],
      "metadata": {
        "id": "9pY0tbs-amTE"
      },
      "execution_count": null,
      "outputs": []
    }
  ]
}